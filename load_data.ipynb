{
 "cells": [
  {
   "cell_type": "code",
   "execution_count": 1,
   "metadata": {},
   "outputs": [],
   "source": [
    "import pandas as pd\n",
    "import numpy as np\n",
    "import requests\n",
    "import streamlit as st\n",
    "from communicator import Communicator\n",
    "import does_the_dog_die as dtdd"
   ]
  },
  {
   "cell_type": "code",
   "execution_count": 2,
   "metadata": {},
   "outputs": [],
   "source": [
    "# headers = {'Accept': 'application/json', 'X-API-KEY': st.secrets['dtdd_key']}\n",
    "# test = requests.get('https://www.doesthedogdie.com/media/10752', headers=headers).json()"
   ]
  },
  {
   "cell_type": "code",
   "execution_count": 3,
   "metadata": {},
   "outputs": [],
   "source": [
    "# test.keys()"
   ]
  },
  {
   "cell_type": "code",
   "execution_count": 4,
   "metadata": {},
   "outputs": [],
   "source": [
    "# test['topicItemStats'][0]"
   ]
  },
  {
   "cell_type": "code",
   "execution_count": 5,
   "metadata": {},
   "outputs": [],
   "source": [
    "# len(test['topicItemStats'])\n",
    "# for question in test['topicItemStats']:\n",
    "#     print(question['slug'])\n",
    "#     print(question['TopicId'])\n",
    "#     print(question['comment'])\n",
    "#     print('confidence: ', question['yesSum'] / (question['noSum'] if np.all(question['noSum']) else 1), '\\n')"
   ]
  },
  {
   "cell_type": "code",
   "execution_count": 6,
   "metadata": {},
   "outputs": [
    {
     "name": "stdout",
     "output_type": "stream",
     "text": [
      "driver created\n"
     ]
    }
   ],
   "source": [
    "com = Communicator()"
   ]
  },
  {
   "cell_type": "code",
   "execution_count": 7,
   "metadata": {},
   "outputs": [],
   "source": [
    "# com.load_media(test['item'], test['topicItemStats'])"
   ]
  },
  {
   "cell_type": "code",
   "execution_count": 8,
   "metadata": {},
   "outputs": [],
   "source": [
    "poc_ids = [381345, 974039, 1031479, 8625, 8629, 20449, 10941, \n",
    "           45492, 15391, 18704, 19056, 11800, 68194, 13788, 15890]"
   ]
  },
  {
   "cell_type": "code",
   "execution_count": 9,
   "metadata": {},
   "outputs": [
    {
     "name": "stdout",
     "output_type": "stream",
     "text": [
      "database name:  neo4j\n",
      "result:  <neo4j._sync.work.result.Result object at 0x7ff03891cc70>\n",
      "database name:  neo4j\n",
      "result:  <neo4j._sync.work.result.Result object at 0x7ff03891cf40>\n",
      "database name:  neo4j\n",
      "result:  <neo4j._sync.work.result.Result object at 0x7ff03891cfd0>\n",
      "database name:  neo4j\n",
      "result:  <neo4j._sync.work.result.Result object at 0x7ff03891ce80>\n",
      "database name:  neo4j\n",
      "result:  <neo4j._sync.work.result.Result object at 0x7ff03891ceb0>\n",
      "database name:  neo4j\n",
      "result:  <neo4j._sync.work.result.Result object at 0x7ff03891cb50>\n",
      "database name:  neo4j\n",
      "result:  <neo4j._sync.work.result.Result object at 0x7ff03891ce50>\n",
      "database name:  neo4j\n",
      "result:  <neo4j._sync.work.result.Result object at 0x7ff03891c430>\n",
      "database name:  neo4j\n",
      "result:  <neo4j._sync.work.result.Result object at 0x7ff03891c760>\n",
      "database name:  neo4j\n",
      "result:  <neo4j._sync.work.result.Result object at 0x7ff03891cca0>\n",
      "database name:  neo4j\n",
      "result:  <neo4j._sync.work.result.Result object at 0x7ff03891cf10>\n",
      "database name:  neo4j\n",
      "result:  <neo4j._sync.work.result.Result object at 0x7ff03891c790>\n",
      "database name:  neo4j\n",
      "result:  <neo4j._sync.work.result.Result object at 0x7ff03891ce20>\n",
      "database name:  neo4j\n",
      "result:  <neo4j._sync.work.result.Result object at 0x7ff03891cee0>\n",
      "database name:  neo4j\n",
      "result:  <neo4j._sync.work.result.Result object at 0x7ff03891c7c0>\n"
     ]
    }
   ],
   "source": [
    "# for id in poc_ids:\n",
    "#     media, topics = dtdd.get_media(id)\n",
    "#     com.load_media(media, topics)"
   ]
  },
  {
   "cell_type": "code",
   "execution_count": null,
   "metadata": {},
   "outputs": [],
   "source": []
  }
 ],
 "metadata": {
  "kernelspec": {
   "display_name": "Python 3",
   "language": "python",
   "name": "python3"
  },
  "language_info": {
   "codemirror_mode": {
    "name": "ipython",
    "version": 3
   },
   "file_extension": ".py",
   "mimetype": "text/x-python",
   "name": "python",
   "nbconvert_exporter": "python",
   "pygments_lexer": "ipython3",
   "version": "3.8.5"
  },
  "orig_nbformat": 4
 },
 "nbformat": 4,
 "nbformat_minor": 2
}
